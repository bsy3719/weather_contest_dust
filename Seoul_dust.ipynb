{
 "cells": [
  {
   "cell_type": "code",
   "execution_count": 1,
   "metadata": {},
   "outputs": [],
   "source": [
    "import pandas as pd\n",
    "import numpy as np"
   ]
  },
  {
   "cell_type": "code",
   "execution_count": 2,
   "metadata": {},
   "outputs": [],
   "source": [
    "#dust1 = pd.read_excel('dust/dust_2010.xlsx')\n",
    "#dust2 = pd.read_excel('dust/dust_2011.xlsx')\n",
    "#dust3 = pd.read_excel('dust/dust_2012.xlsx')\n",
    "#dust4 = pd.read_excel('dust/dust_2013.xlsx')\n",
    "#dust5 = pd.read_excel('dust/dust_2014.xlsx')\n",
    "dust6 = pd.read_excel('seoul_dust/dust_2015.xlsx')\n",
    "dust7 = pd.read_excel('seoul_dust/dust_2016.xlsx')\n",
    "dust8 = pd.read_excel('seoul_dust/dust_2017.xlsx')\n",
    "dust9 = pd.read_excel('seoul_dust/dust_2018.xlsx')"
   ]
  },
  {
   "cell_type": "markdown",
   "metadata": {},
   "source": [
    "초미세먼지는 2014년부터 측정하기 시작함"
   ]
  },
  {
   "cell_type": "code",
   "execution_count": 3,
   "metadata": {},
   "outputs": [],
   "source": [
    "total_dust = pd.concat([dust6, dust7, dust8, dust9])"
   ]
  },
  {
   "cell_type": "code",
   "execution_count": 4,
   "metadata": {},
   "outputs": [
    {
     "data": {
      "text/plain": [
       "(55336, 8)"
      ]
     },
     "execution_count": 4,
     "metadata": {},
     "output_type": "execute_result"
    }
   ],
   "source": [
    "total_dust.shape"
   ]
  },
  {
   "cell_type": "code",
   "execution_count": 5,
   "metadata": {},
   "outputs": [
    {
     "data": {
      "text/html": [
       "<div>\n",
       "<style scoped>\n",
       "    .dataframe tbody tr th:only-of-type {\n",
       "        vertical-align: middle;\n",
       "    }\n",
       "\n",
       "    .dataframe tbody tr th {\n",
       "        vertical-align: top;\n",
       "    }\n",
       "\n",
       "    .dataframe thead th {\n",
       "        text-align: right;\n",
       "    }\n",
       "</style>\n",
       "<table border=\"1\" class=\"dataframe\">\n",
       "  <thead>\n",
       "    <tr style=\"text-align: right;\">\n",
       "      <th></th>\n",
       "      <th>측정일시</th>\n",
       "      <th>측정소명</th>\n",
       "      <th>이산화질소농도(ppm)</th>\n",
       "      <th>오존농도(ppm)</th>\n",
       "      <th>이산화탄소농도(ppm)</th>\n",
       "      <th>아황산가스(ppm)</th>\n",
       "      <th>미세먼지(㎍/㎥)</th>\n",
       "      <th>초미세먼지(㎍/㎥)</th>\n",
       "    </tr>\n",
       "  </thead>\n",
       "  <tbody>\n",
       "    <tr>\n",
       "      <th>0</th>\n",
       "      <td>20150101</td>\n",
       "      <td>강남구</td>\n",
       "      <td>0.013</td>\n",
       "      <td>0.023</td>\n",
       "      <td>0.2</td>\n",
       "      <td>0.006</td>\n",
       "      <td>66.0</td>\n",
       "      <td>17.0</td>\n",
       "    </tr>\n",
       "    <tr>\n",
       "      <th>1</th>\n",
       "      <td>20150101</td>\n",
       "      <td>강남대로</td>\n",
       "      <td>0.032</td>\n",
       "      <td>0.013</td>\n",
       "      <td>0.3</td>\n",
       "      <td>0.005</td>\n",
       "      <td>63.0</td>\n",
       "      <td>12.0</td>\n",
       "    </tr>\n",
       "    <tr>\n",
       "      <th>2</th>\n",
       "      <td>20150101</td>\n",
       "      <td>강동구</td>\n",
       "      <td>0.010</td>\n",
       "      <td>0.016</td>\n",
       "      <td>0.4</td>\n",
       "      <td>0.005</td>\n",
       "      <td>63.0</td>\n",
       "      <td>10.0</td>\n",
       "    </tr>\n",
       "    <tr>\n",
       "      <th>3</th>\n",
       "      <td>20150101</td>\n",
       "      <td>강변북로</td>\n",
       "      <td>0.024</td>\n",
       "      <td>0.014</td>\n",
       "      <td>0.3</td>\n",
       "      <td>0.004</td>\n",
       "      <td>64.0</td>\n",
       "      <td>14.0</td>\n",
       "    </tr>\n",
       "    <tr>\n",
       "      <th>4</th>\n",
       "      <td>20150101</td>\n",
       "      <td>강북구</td>\n",
       "      <td>0.011</td>\n",
       "      <td>0.018</td>\n",
       "      <td>0.2</td>\n",
       "      <td>0.005</td>\n",
       "      <td>63.0</td>\n",
       "      <td>7.0</td>\n",
       "    </tr>\n",
       "  </tbody>\n",
       "</table>\n",
       "</div>"
      ],
      "text/plain": [
       "       측정일시  측정소명  이산화질소농도(ppm)  오존농도(ppm)  이산화탄소농도(ppm)  아황산가스(ppm)  \\\n",
       "0  20150101   강남구         0.013      0.023           0.2       0.006   \n",
       "1  20150101  강남대로         0.032      0.013           0.3       0.005   \n",
       "2  20150101   강동구         0.010      0.016           0.4       0.005   \n",
       "3  20150101  강변북로         0.024      0.014           0.3       0.004   \n",
       "4  20150101   강북구         0.011      0.018           0.2       0.005   \n",
       "\n",
       "   미세먼지(㎍/㎥)  초미세먼지(㎍/㎥)  \n",
       "0       66.0        17.0  \n",
       "1       63.0        12.0  \n",
       "2       63.0        10.0  \n",
       "3       64.0        14.0  \n",
       "4       63.0         7.0  "
      ]
     },
     "execution_count": 5,
     "metadata": {},
     "output_type": "execute_result"
    }
   ],
   "source": [
    "total_dust.head()"
   ]
  },
  {
   "cell_type": "code",
   "execution_count": 6,
   "metadata": {},
   "outputs": [
    {
     "data": {
      "text/plain": [
       "동대문구    1405\n",
       "강남구     1405\n",
       "강동구     1405\n",
       "신촌로     1405\n",
       "공항대로    1405\n",
       "용산구     1405\n",
       "강변북로    1405\n",
       "구로구     1405\n",
       "한강대로    1405\n",
       "성북구     1405\n",
       "강남대로    1405\n",
       "홍릉로     1405\n",
       "광진구     1405\n",
       "종로구     1405\n",
       "영등포구    1405\n",
       "관악구     1405\n",
       "동작구     1405\n",
       "서초구     1405\n",
       "청계천로    1405\n",
       "중구      1405\n",
       "천호대로    1405\n",
       "마포구     1405\n",
       "도봉구     1405\n",
       "서대문구    1405\n",
       "강서구     1405\n",
       "동작대로    1405\n",
       "은평구     1405\n",
       "성동구     1405\n",
       "송파구     1405\n",
       "정릉로     1403\n",
       "노원구     1403\n",
       "영등포로    1403\n",
       "종로      1403\n",
       "중랑구     1402\n",
       "화랑로     1401\n",
       "도산대로    1388\n",
       "강북구     1382\n",
       "금천구     1376\n",
       "양천구     1374\n",
       "홍지문      260\n",
       "남산        60\n",
       "북한산       60\n",
       "행주        60\n",
       "세곡        60\n",
       "관악산       60\n",
       "궁동        60\n",
       "시흥대로      36\n",
       "Name: 측정소명, dtype: int64"
      ]
     },
     "execution_count": 6,
     "metadata": {},
     "output_type": "execute_result"
    }
   ],
   "source": [
    "total_dust['측정소명'].value_counts()"
   ]
  },
  {
   "cell_type": "code",
   "execution_count": 7,
   "metadata": {},
   "outputs": [
    {
     "data": {
      "text/html": [
       "<div>\n",
       "<style scoped>\n",
       "    .dataframe tbody tr th:only-of-type {\n",
       "        vertical-align: middle;\n",
       "    }\n",
       "\n",
       "    .dataframe tbody tr th {\n",
       "        vertical-align: top;\n",
       "    }\n",
       "\n",
       "    .dataframe thead th {\n",
       "        text-align: right;\n",
       "    }\n",
       "</style>\n",
       "<table border=\"1\" class=\"dataframe\">\n",
       "  <thead>\n",
       "    <tr style=\"text-align: right;\">\n",
       "      <th></th>\n",
       "      <th>측정일시</th>\n",
       "      <th>측정소명</th>\n",
       "      <th>이산화질소농도(ppm)</th>\n",
       "      <th>오존농도(ppm)</th>\n",
       "      <th>이산화탄소농도(ppm)</th>\n",
       "      <th>아황산가스(ppm)</th>\n",
       "      <th>미세먼지(㎍/㎥)</th>\n",
       "      <th>초미세먼지(㎍/㎥)</th>\n",
       "    </tr>\n",
       "  </thead>\n",
       "  <tbody>\n",
       "    <tr>\n",
       "      <th>0</th>\n",
       "      <td>20150101</td>\n",
       "      <td>강남구</td>\n",
       "      <td>0.013</td>\n",
       "      <td>0.023</td>\n",
       "      <td>0.2</td>\n",
       "      <td>0.006</td>\n",
       "      <td>66.0</td>\n",
       "      <td>17.0</td>\n",
       "    </tr>\n",
       "    <tr>\n",
       "      <th>1</th>\n",
       "      <td>20150101</td>\n",
       "      <td>강남대로</td>\n",
       "      <td>0.032</td>\n",
       "      <td>0.013</td>\n",
       "      <td>0.3</td>\n",
       "      <td>0.005</td>\n",
       "      <td>63.0</td>\n",
       "      <td>12.0</td>\n",
       "    </tr>\n",
       "    <tr>\n",
       "      <th>2</th>\n",
       "      <td>20150101</td>\n",
       "      <td>강동구</td>\n",
       "      <td>0.010</td>\n",
       "      <td>0.016</td>\n",
       "      <td>0.4</td>\n",
       "      <td>0.005</td>\n",
       "      <td>63.0</td>\n",
       "      <td>10.0</td>\n",
       "    </tr>\n",
       "    <tr>\n",
       "      <th>3</th>\n",
       "      <td>20150101</td>\n",
       "      <td>강변북로</td>\n",
       "      <td>0.024</td>\n",
       "      <td>0.014</td>\n",
       "      <td>0.3</td>\n",
       "      <td>0.004</td>\n",
       "      <td>64.0</td>\n",
       "      <td>14.0</td>\n",
       "    </tr>\n",
       "    <tr>\n",
       "      <th>4</th>\n",
       "      <td>20150101</td>\n",
       "      <td>강북구</td>\n",
       "      <td>0.011</td>\n",
       "      <td>0.018</td>\n",
       "      <td>0.2</td>\n",
       "      <td>0.005</td>\n",
       "      <td>63.0</td>\n",
       "      <td>7.0</td>\n",
       "    </tr>\n",
       "  </tbody>\n",
       "</table>\n",
       "</div>"
      ],
      "text/plain": [
       "       측정일시  측정소명  이산화질소농도(ppm)  오존농도(ppm)  이산화탄소농도(ppm)  아황산가스(ppm)  \\\n",
       "0  20150101   강남구         0.013      0.023           0.2       0.006   \n",
       "1  20150101  강남대로         0.032      0.013           0.3       0.005   \n",
       "2  20150101   강동구         0.010      0.016           0.4       0.005   \n",
       "3  20150101  강변북로         0.024      0.014           0.3       0.004   \n",
       "4  20150101   강북구         0.011      0.018           0.2       0.005   \n",
       "\n",
       "   미세먼지(㎍/㎥)  초미세먼지(㎍/㎥)  \n",
       "0       66.0        17.0  \n",
       "1       63.0        12.0  \n",
       "2       63.0        10.0  \n",
       "3       64.0        14.0  \n",
       "4       63.0         7.0  "
      ]
     },
     "execution_count": 7,
     "metadata": {},
     "output_type": "execute_result"
    }
   ],
   "source": [
    "total_dust.head()"
   ]
  },
  {
   "cell_type": "code",
   "execution_count": 8,
   "metadata": {},
   "outputs": [
    {
     "data": {
      "text/html": [
       "<div>\n",
       "<style scoped>\n",
       "    .dataframe tbody tr th:only-of-type {\n",
       "        vertical-align: middle;\n",
       "    }\n",
       "\n",
       "    .dataframe tbody tr th {\n",
       "        vertical-align: top;\n",
       "    }\n",
       "\n",
       "    .dataframe thead th {\n",
       "        text-align: right;\n",
       "    }\n",
       "</style>\n",
       "<table border=\"1\" class=\"dataframe\">\n",
       "  <thead>\n",
       "    <tr style=\"text-align: right;\">\n",
       "      <th></th>\n",
       "      <th>측정일시</th>\n",
       "      <th>측정소명</th>\n",
       "      <th>이산화질소농도(ppm)</th>\n",
       "      <th>오존농도(ppm)</th>\n",
       "      <th>이산화탄소농도(ppm)</th>\n",
       "      <th>아황산가스(ppm)</th>\n",
       "      <th>미세먼지(㎍/㎥)</th>\n",
       "      <th>초미세먼지(㎍/㎥)</th>\n",
       "    </tr>\n",
       "  </thead>\n",
       "  <tbody>\n",
       "    <tr>\n",
       "      <th>12442</th>\n",
       "      <td>20181231</td>\n",
       "      <td>청계천로</td>\n",
       "      <td>0.049</td>\n",
       "      <td>0.005</td>\n",
       "      <td>0.9</td>\n",
       "      <td>0.005</td>\n",
       "      <td>39.0</td>\n",
       "      <td>31.0</td>\n",
       "    </tr>\n",
       "    <tr>\n",
       "      <th>12443</th>\n",
       "      <td>20181231</td>\n",
       "      <td>한강대로</td>\n",
       "      <td>0.073</td>\n",
       "      <td>0.006</td>\n",
       "      <td>0.9</td>\n",
       "      <td>0.004</td>\n",
       "      <td>52.0</td>\n",
       "      <td>34.0</td>\n",
       "    </tr>\n",
       "    <tr>\n",
       "      <th>12444</th>\n",
       "      <td>20181231</td>\n",
       "      <td>행주</td>\n",
       "      <td>0.039</td>\n",
       "      <td>0.011</td>\n",
       "      <td>1.0</td>\n",
       "      <td>0.004</td>\n",
       "      <td>60.0</td>\n",
       "      <td>30.0</td>\n",
       "    </tr>\n",
       "    <tr>\n",
       "      <th>12445</th>\n",
       "      <td>20181231</td>\n",
       "      <td>홍릉로</td>\n",
       "      <td>0.031</td>\n",
       "      <td>0.004</td>\n",
       "      <td>0.7</td>\n",
       "      <td>0.005</td>\n",
       "      <td>57.0</td>\n",
       "      <td>39.0</td>\n",
       "    </tr>\n",
       "    <tr>\n",
       "      <th>12446</th>\n",
       "      <td>20181231</td>\n",
       "      <td>화랑로</td>\n",
       "      <td>0.032</td>\n",
       "      <td>0.005</td>\n",
       "      <td>0.7</td>\n",
       "      <td>0.005</td>\n",
       "      <td>47.0</td>\n",
       "      <td>31.0</td>\n",
       "    </tr>\n",
       "  </tbody>\n",
       "</table>\n",
       "</div>"
      ],
      "text/plain": [
       "           측정일시  측정소명  이산화질소농도(ppm)  오존농도(ppm)  이산화탄소농도(ppm)  아황산가스(ppm)  \\\n",
       "12442  20181231  청계천로         0.049      0.005           0.9       0.005   \n",
       "12443  20181231  한강대로         0.073      0.006           0.9       0.004   \n",
       "12444  20181231    행주         0.039      0.011           1.0       0.004   \n",
       "12445  20181231   홍릉로         0.031      0.004           0.7       0.005   \n",
       "12446  20181231   화랑로         0.032      0.005           0.7       0.005   \n",
       "\n",
       "       미세먼지(㎍/㎥)  초미세먼지(㎍/㎥)  \n",
       "12442       39.0        31.0  \n",
       "12443       52.0        34.0  \n",
       "12444       60.0        30.0  \n",
       "12445       57.0        39.0  \n",
       "12446       47.0        31.0  "
      ]
     },
     "execution_count": 8,
     "metadata": {},
     "output_type": "execute_result"
    }
   ],
   "source": [
    "total_dust.tail()"
   ]
  },
  {
   "cell_type": "code",
   "execution_count": 9,
   "metadata": {},
   "outputs": [
    {
     "data": {
      "text/plain": [
       "측정일시               0\n",
       "측정소명               0\n",
       "이산화질소농도(ppm)     498\n",
       "오존농도(ppm)        491\n",
       "이산화탄소농도(ppm)     569\n",
       "아황산가스(ppm)       502\n",
       "미세먼지(㎍/㎥)        579\n",
       "초미세먼지(㎍/㎥)      1482\n",
       "dtype: int64"
      ]
     },
     "execution_count": 9,
     "metadata": {},
     "output_type": "execute_result"
    }
   ],
   "source": [
    "total_dust.isnull().sum()"
   ]
  },
  {
   "cell_type": "markdown",
   "metadata": {},
   "source": [
    "초미세먼지 null값이 많아서 제거"
   ]
  },
  {
   "cell_type": "code",
   "execution_count": 10,
   "metadata": {},
   "outputs": [],
   "source": [
    "remove_dust = total_dust.iloc[:,:-1]"
   ]
  },
  {
   "cell_type": "code",
   "execution_count": 11,
   "metadata": {},
   "outputs": [
    {
     "data": {
      "text/plain": [
       "(55336, 7)"
      ]
     },
     "execution_count": 11,
     "metadata": {},
     "output_type": "execute_result"
    }
   ],
   "source": [
    "remove_dust.shape"
   ]
  },
  {
   "cell_type": "code",
   "execution_count": 12,
   "metadata": {},
   "outputs": [
    {
     "data": {
      "text/plain": [
       "측정일시              0\n",
       "측정소명              0\n",
       "이산화질소농도(ppm)    498\n",
       "오존농도(ppm)       491\n",
       "이산화탄소농도(ppm)    569\n",
       "아황산가스(ppm)      502\n",
       "미세먼지(㎍/㎥)       579\n",
       "dtype: int64"
      ]
     },
     "execution_count": 12,
     "metadata": {},
     "output_type": "execute_result"
    }
   ],
   "source": [
    "remove_dust.isnull().sum()"
   ]
  },
  {
   "cell_type": "code",
   "execution_count": 13,
   "metadata": {},
   "outputs": [],
   "source": [
    "remove_col_dust = remove_dust.dropna()"
   ]
  },
  {
   "cell_type": "code",
   "execution_count": 14,
   "metadata": {},
   "outputs": [
    {
     "data": {
      "text/html": [
       "<div>\n",
       "<style scoped>\n",
       "    .dataframe tbody tr th:only-of-type {\n",
       "        vertical-align: middle;\n",
       "    }\n",
       "\n",
       "    .dataframe tbody tr th {\n",
       "        vertical-align: top;\n",
       "    }\n",
       "\n",
       "    .dataframe thead th {\n",
       "        text-align: right;\n",
       "    }\n",
       "</style>\n",
       "<table border=\"1\" class=\"dataframe\">\n",
       "  <thead>\n",
       "    <tr style=\"text-align: right;\">\n",
       "      <th></th>\n",
       "      <th>측정일시</th>\n",
       "      <th>이산화질소농도(ppm)</th>\n",
       "      <th>오존농도(ppm)</th>\n",
       "      <th>이산화탄소농도(ppm)</th>\n",
       "      <th>아황산가스(ppm)</th>\n",
       "      <th>미세먼지(㎍/㎥)</th>\n",
       "    </tr>\n",
       "  </thead>\n",
       "  <tbody>\n",
       "    <tr>\n",
       "      <th>count</th>\n",
       "      <td>5.441000e+04</td>\n",
       "      <td>54410.000000</td>\n",
       "      <td>54410.000000</td>\n",
       "      <td>54410.000000</td>\n",
       "      <td>54410.000000</td>\n",
       "      <td>54410.000000</td>\n",
       "    </tr>\n",
       "    <tr>\n",
       "      <th>mean</th>\n",
       "      <td>2.016506e+07</td>\n",
       "      <td>0.036197</td>\n",
       "      <td>0.020495</td>\n",
       "      <td>0.563753</td>\n",
       "      <td>0.005091</td>\n",
       "      <td>46.749311</td>\n",
       "    </tr>\n",
       "    <tr>\n",
       "      <th>std</th>\n",
       "      <td>1.102572e+04</td>\n",
       "      <td>0.015941</td>\n",
       "      <td>0.012181</td>\n",
       "      <td>0.245037</td>\n",
       "      <td>0.001830</td>\n",
       "      <td>28.461399</td>\n",
       "    </tr>\n",
       "    <tr>\n",
       "      <th>min</th>\n",
       "      <td>2.015010e+07</td>\n",
       "      <td>0.000000</td>\n",
       "      <td>0.000000</td>\n",
       "      <td>0.000000</td>\n",
       "      <td>0.000000</td>\n",
       "      <td>3.000000</td>\n",
       "    </tr>\n",
       "    <tr>\n",
       "      <th>25%</th>\n",
       "      <td>2.015122e+07</td>\n",
       "      <td>0.024000</td>\n",
       "      <td>0.011000</td>\n",
       "      <td>0.400000</td>\n",
       "      <td>0.004000</td>\n",
       "      <td>30.000000</td>\n",
       "    </tr>\n",
       "    <tr>\n",
       "      <th>50%</th>\n",
       "      <td>2.016120e+07</td>\n",
       "      <td>0.034000</td>\n",
       "      <td>0.019000</td>\n",
       "      <td>0.500000</td>\n",
       "      <td>0.005000</td>\n",
       "      <td>42.000000</td>\n",
       "    </tr>\n",
       "    <tr>\n",
       "      <th>75%</th>\n",
       "      <td>2.017112e+07</td>\n",
       "      <td>0.046000</td>\n",
       "      <td>0.028000</td>\n",
       "      <td>0.700000</td>\n",
       "      <td>0.006000</td>\n",
       "      <td>58.000000</td>\n",
       "    </tr>\n",
       "    <tr>\n",
       "      <th>max</th>\n",
       "      <td>2.018123e+07</td>\n",
       "      <td>0.169000</td>\n",
       "      <td>0.278000</td>\n",
       "      <td>25.100000</td>\n",
       "      <td>0.148000</td>\n",
       "      <td>709.000000</td>\n",
       "    </tr>\n",
       "  </tbody>\n",
       "</table>\n",
       "</div>"
      ],
      "text/plain": [
       "               측정일시  이산화질소농도(ppm)     오존농도(ppm)  이산화탄소농도(ppm)    아황산가스(ppm)  \\\n",
       "count  5.441000e+04  54410.000000  54410.000000  54410.000000  54410.000000   \n",
       "mean   2.016506e+07      0.036197      0.020495      0.563753      0.005091   \n",
       "std    1.102572e+04      0.015941      0.012181      0.245037      0.001830   \n",
       "min    2.015010e+07      0.000000      0.000000      0.000000      0.000000   \n",
       "25%    2.015122e+07      0.024000      0.011000      0.400000      0.004000   \n",
       "50%    2.016120e+07      0.034000      0.019000      0.500000      0.005000   \n",
       "75%    2.017112e+07      0.046000      0.028000      0.700000      0.006000   \n",
       "max    2.018123e+07      0.169000      0.278000     25.100000      0.148000   \n",
       "\n",
       "          미세먼지(㎍/㎥)  \n",
       "count  54410.000000  \n",
       "mean      46.749311  \n",
       "std       28.461399  \n",
       "min        3.000000  \n",
       "25%       30.000000  \n",
       "50%       42.000000  \n",
       "75%       58.000000  \n",
       "max      709.000000  "
      ]
     },
     "execution_count": 14,
     "metadata": {},
     "output_type": "execute_result"
    }
   ],
   "source": [
    "remove_col_dust.describe()"
   ]
  },
  {
   "cell_type": "code",
   "execution_count": 15,
   "metadata": {},
   "outputs": [
    {
     "data": {
      "text/plain": [
       "측정일시            0\n",
       "측정소명            0\n",
       "이산화질소농도(ppm)    0\n",
       "오존농도(ppm)       0\n",
       "이산화탄소농도(ppm)    0\n",
       "아황산가스(ppm)      0\n",
       "미세먼지(㎍/㎥)       0\n",
       "dtype: int64"
      ]
     },
     "execution_count": 15,
     "metadata": {},
     "output_type": "execute_result"
    }
   ],
   "source": [
    "remove_col_dust.isnull().sum()"
   ]
  },
  {
   "cell_type": "code",
   "execution_count": 16,
   "metadata": {},
   "outputs": [
    {
     "data": {
      "text/plain": [
       "(54410, 7)"
      ]
     },
     "execution_count": 16,
     "metadata": {},
     "output_type": "execute_result"
    }
   ],
   "source": [
    "remove_col_dust.shape"
   ]
  },
  {
   "cell_type": "code",
   "execution_count": 17,
   "metadata": {},
   "outputs": [
    {
     "data": {
      "text/plain": [
       "홍릉로     1405\n",
       "동대문구    1403\n",
       "한강대로    1401\n",
       "중랑구     1398\n",
       "강남대로    1398\n",
       "강남구     1398\n",
       "동작대로    1397\n",
       "마포구     1394\n",
       "광진구     1393\n",
       "강동구     1392\n",
       "도봉구     1392\n",
       "은평구     1391\n",
       "강변북로    1390\n",
       "공항대로    1390\n",
       "용산구     1389\n",
       "서초구     1388\n",
       "관악구     1388\n",
       "송파구     1387\n",
       "종로      1386\n",
       "정릉로     1386\n",
       "성동구     1386\n",
       "화랑로     1385\n",
       "강서구     1382\n",
       "노원구     1381\n",
       "영등포구    1380\n",
       "성북구     1380\n",
       "강북구     1379\n",
       "구로구     1377\n",
       "중구      1376\n",
       "종로구     1375\n",
       "금천구     1373\n",
       "동작구     1364\n",
       "청계천로    1360\n",
       "서대문구    1358\n",
       "양천구     1352\n",
       "도산대로    1350\n",
       "신촌로     1346\n",
       "영등포로    1344\n",
       "천호대로    1344\n",
       "홍지문      258\n",
       "세곡        60\n",
       "행주        60\n",
       "북한산       60\n",
       "남산        60\n",
       "시흥대로      36\n",
       "궁동        18\n",
       "Name: 측정소명, dtype: int64"
      ]
     },
     "execution_count": 17,
     "metadata": {},
     "output_type": "execute_result"
    }
   ],
   "source": [
    "remove_col_dust['측정소명'].value_counts()"
   ]
  },
  {
   "cell_type": "code",
   "execution_count": 18,
   "metadata": {},
   "outputs": [],
   "source": [
    "weather = pd.read_csv(\"seoul_weather/weather.csv\", sep= \",\", dtype='unicode', encoding='euc-kr')"
   ]
  },
  {
   "cell_type": "code",
   "execution_count": 19,
   "metadata": {},
   "outputs": [
    {
     "data": {
      "text/html": [
       "<div>\n",
       "<style scoped>\n",
       "    .dataframe tbody tr th:only-of-type {\n",
       "        vertical-align: middle;\n",
       "    }\n",
       "\n",
       "    .dataframe tbody tr th {\n",
       "        vertical-align: top;\n",
       "    }\n",
       "\n",
       "    .dataframe thead th {\n",
       "        text-align: right;\n",
       "    }\n",
       "</style>\n",
       "<table border=\"1\" class=\"dataframe\">\n",
       "  <thead>\n",
       "    <tr style=\"text-align: right;\">\n",
       "      <th></th>\n",
       "      <th>지점</th>\n",
       "      <th>일시</th>\n",
       "      <th>평균기온(°C)</th>\n",
       "      <th>일강수량(mm)</th>\n",
       "      <th>평균 풍속(m/s)</th>\n",
       "    </tr>\n",
       "  </thead>\n",
       "  <tbody>\n",
       "    <tr>\n",
       "      <th>0</th>\n",
       "      <td>400</td>\n",
       "      <td>2015-01-01</td>\n",
       "      <td>-6.8</td>\n",
       "      <td>0</td>\n",
       "      <td>2.7</td>\n",
       "    </tr>\n",
       "    <tr>\n",
       "      <th>1</th>\n",
       "      <td>400</td>\n",
       "      <td>2015-01-02</td>\n",
       "      <td>-4.9</td>\n",
       "      <td>0</td>\n",
       "      <td>2.1</td>\n",
       "    </tr>\n",
       "    <tr>\n",
       "      <th>2</th>\n",
       "      <td>400</td>\n",
       "      <td>2015-01-03</td>\n",
       "      <td>-2.1</td>\n",
       "      <td>0</td>\n",
       "      <td>1.3</td>\n",
       "    </tr>\n",
       "    <tr>\n",
       "      <th>3</th>\n",
       "      <td>400</td>\n",
       "      <td>2015-01-04</td>\n",
       "      <td>2.8</td>\n",
       "      <td>0</td>\n",
       "      <td>1</td>\n",
       "    </tr>\n",
       "    <tr>\n",
       "      <th>4</th>\n",
       "      <td>400</td>\n",
       "      <td>2015-01-05</td>\n",
       "      <td>3.8</td>\n",
       "      <td>.5</td>\n",
       "      <td>1.2</td>\n",
       "    </tr>\n",
       "  </tbody>\n",
       "</table>\n",
       "</div>"
      ],
      "text/plain": [
       "    지점          일시 평균기온(°C) 일강수량(mm) 평균 풍속(m/s)\n",
       "0  400  2015-01-01     -6.8        0        2.7\n",
       "1  400  2015-01-02     -4.9        0        2.1\n",
       "2  400  2015-01-03     -2.1        0        1.3\n",
       "3  400  2015-01-04      2.8        0          1\n",
       "4  400  2015-01-05      3.8       .5        1.2"
      ]
     },
     "execution_count": 19,
     "metadata": {},
     "output_type": "execute_result"
    }
   ],
   "source": [
    "weather.head()"
   ]
  },
  {
   "cell_type": "code",
   "execution_count": 20,
   "metadata": {},
   "outputs": [
    {
     "data": {
      "text/plain": [
       "(40864, 5)"
      ]
     },
     "execution_count": 20,
     "metadata": {},
     "output_type": "execute_result"
    }
   ],
   "source": [
    "weather.shape"
   ]
  },
  {
   "cell_type": "code",
   "execution_count": 21,
   "metadata": {},
   "outputs": [],
   "source": [
    "weather['일시'] = weather['일시'].astype(str)"
   ]
  },
  {
   "cell_type": "code",
   "execution_count": 22,
   "metadata": {},
   "outputs": [],
   "source": [
    "weather['year'] = weather['일시'].str[0:4]\n",
    "weather['month'] = weather['일시'].str[5:7]\n",
    "weather['day'] = weather['일시'].str[8:10]"
   ]
  },
  {
   "cell_type": "code",
   "execution_count": 23,
   "metadata": {},
   "outputs": [
    {
     "data": {
      "text/html": [
       "<div>\n",
       "<style scoped>\n",
       "    .dataframe tbody tr th:only-of-type {\n",
       "        vertical-align: middle;\n",
       "    }\n",
       "\n",
       "    .dataframe tbody tr th {\n",
       "        vertical-align: top;\n",
       "    }\n",
       "\n",
       "    .dataframe thead th {\n",
       "        text-align: right;\n",
       "    }\n",
       "</style>\n",
       "<table border=\"1\" class=\"dataframe\">\n",
       "  <thead>\n",
       "    <tr style=\"text-align: right;\">\n",
       "      <th></th>\n",
       "      <th>지점</th>\n",
       "      <th>일시</th>\n",
       "      <th>평균기온(°C)</th>\n",
       "      <th>일강수량(mm)</th>\n",
       "      <th>평균 풍속(m/s)</th>\n",
       "      <th>year</th>\n",
       "      <th>month</th>\n",
       "      <th>day</th>\n",
       "    </tr>\n",
       "  </thead>\n",
       "  <tbody>\n",
       "    <tr>\n",
       "      <th>0</th>\n",
       "      <td>400</td>\n",
       "      <td>2015-01-01</td>\n",
       "      <td>-6.8</td>\n",
       "      <td>0</td>\n",
       "      <td>2.7</td>\n",
       "      <td>2015</td>\n",
       "      <td>01</td>\n",
       "      <td>01</td>\n",
       "    </tr>\n",
       "    <tr>\n",
       "      <th>1</th>\n",
       "      <td>400</td>\n",
       "      <td>2015-01-02</td>\n",
       "      <td>-4.9</td>\n",
       "      <td>0</td>\n",
       "      <td>2.1</td>\n",
       "      <td>2015</td>\n",
       "      <td>01</td>\n",
       "      <td>02</td>\n",
       "    </tr>\n",
       "    <tr>\n",
       "      <th>2</th>\n",
       "      <td>400</td>\n",
       "      <td>2015-01-03</td>\n",
       "      <td>-2.1</td>\n",
       "      <td>0</td>\n",
       "      <td>1.3</td>\n",
       "      <td>2015</td>\n",
       "      <td>01</td>\n",
       "      <td>03</td>\n",
       "    </tr>\n",
       "    <tr>\n",
       "      <th>3</th>\n",
       "      <td>400</td>\n",
       "      <td>2015-01-04</td>\n",
       "      <td>2.8</td>\n",
       "      <td>0</td>\n",
       "      <td>1</td>\n",
       "      <td>2015</td>\n",
       "      <td>01</td>\n",
       "      <td>04</td>\n",
       "    </tr>\n",
       "    <tr>\n",
       "      <th>4</th>\n",
       "      <td>400</td>\n",
       "      <td>2015-01-05</td>\n",
       "      <td>3.8</td>\n",
       "      <td>.5</td>\n",
       "      <td>1.2</td>\n",
       "      <td>2015</td>\n",
       "      <td>01</td>\n",
       "      <td>05</td>\n",
       "    </tr>\n",
       "  </tbody>\n",
       "</table>\n",
       "</div>"
      ],
      "text/plain": [
       "    지점          일시 평균기온(°C) 일강수량(mm) 평균 풍속(m/s)  year month day\n",
       "0  400  2015-01-01     -6.8        0        2.7  2015    01  01\n",
       "1  400  2015-01-02     -4.9        0        2.1  2015    01  02\n",
       "2  400  2015-01-03     -2.1        0        1.3  2015    01  03\n",
       "3  400  2015-01-04      2.8        0          1  2015    01  04\n",
       "4  400  2015-01-05      3.8       .5        1.2  2015    01  05"
      ]
     },
     "execution_count": 23,
     "metadata": {},
     "output_type": "execute_result"
    }
   ],
   "source": [
    "weather.head()"
   ]
  },
  {
   "cell_type": "markdown",
   "metadata": {},
   "source": [
    "400 강남\n",
    "402 강동\n",
    "424 강북\n",
    "404 강서\n",
    "509 관악\n",
    "413 광진\n",
    "423 구로\n",
    "417 금천\n",
    "410 기상청\n",
    "425 남현\n",
    "408 노원\n",
    "406 도봉\n",
    "408 동대문\n",
    "411 마포\n",
    "422 북악산\n",
    "420 북한산\n",
    "412 서대문\n",
    "401 서초\n",
    "421 성동\n",
    "414 성북\n",
    "403 송파\n",
    "405 양천\n",
    "510 영등포\n",
    "415 용산\n",
    "416 은평\n",
    "419 중구\n",
    "409 중랑\n",
    "418 한강\n",
    "889 현충원"
   ]
  },
  {
   "cell_type": "code",
   "execution_count": 24,
   "metadata": {},
   "outputs": [
    {
     "name": "stderr",
     "output_type": "stream",
     "text": [
      "C:\\Users\\baek\\Anaconda3\\lib\\site-packages\\ipykernel_launcher.py:1: SettingWithCopyWarning: \n",
      "A value is trying to be set on a copy of a slice from a DataFrame.\n",
      "Try using .loc[row_indexer,col_indexer] = value instead\n",
      "\n",
      "See the caveats in the documentation: http://pandas.pydata.org/pandas-docs/stable/indexing.html#indexing-view-versus-copy\n",
      "  \"\"\"Entry point for launching an IPython kernel.\n"
     ]
    }
   ],
   "source": [
    "remove_col_dust['지점'] = 0"
   ]
  },
  {
   "cell_type": "code",
   "execution_count": 25,
   "metadata": {},
   "outputs": [
    {
     "name": "stderr",
     "output_type": "stream",
     "text": [
      "C:\\Users\\baek\\Anaconda3\\lib\\site-packages\\pandas\\core\\indexing.py:543: SettingWithCopyWarning: \n",
      "A value is trying to be set on a copy of a slice from a DataFrame.\n",
      "Try using .loc[row_indexer,col_indexer] = value instead\n",
      "\n",
      "See the caveats in the documentation: http://pandas.pydata.org/pandas-docs/stable/indexing.html#indexing-view-versus-copy\n",
      "  self.obj[item] = s\n"
     ]
    }
   ],
   "source": [
    "remove_col_dust.loc[remove_col_dust['측정소명'].str.contains('강남구'), '지점'] = 400\n",
    "remove_col_dust.loc[remove_col_dust['측정소명'].str.contains('강동구'), '지점'] = 402\n",
    "remove_col_dust.loc[remove_col_dust['측정소명'].str.contains('강북구'), '지점'] = 424\n",
    "remove_col_dust.loc[remove_col_dust['측정소명'].str.contains('강서구'), '지점'] = 404\n",
    "remove_col_dust.loc[remove_col_dust['측정소명'].str.contains('관악구'), '지점'] = 509\n",
    "remove_col_dust.loc[remove_col_dust['측정소명'].str.contains('광진구'), '지점'] = 413\n",
    "remove_col_dust.loc[remove_col_dust['측정소명'].str.contains('구로구'), '지점'] = 423\n",
    "remove_col_dust.loc[remove_col_dust['측정소명'].str.contains('금천구'), '지점'] = 417\n",
    "remove_col_dust.loc[remove_col_dust['측정소명'].str.contains('남현구'), '지점'] = 425\n",
    "remove_col_dust.loc[remove_col_dust['측정소명'].str.contains('노원구'), '지점'] = 408\n",
    "remove_col_dust.loc[remove_col_dust['측정소명'].str.contains('도봉구'), '지점'] = 406\n",
    "remove_col_dust.loc[remove_col_dust['측정소명'].str.contains('동대문구'), '지점'] = 408\n",
    "remove_col_dust.loc[remove_col_dust['측정소명'].str.contains('동작구'), '지점'] = 889\n",
    "remove_col_dust.loc[remove_col_dust['측정소명'].str.contains('마포구'), '지점'] = 411\n",
    "remove_col_dust.loc[remove_col_dust['측정소명'].str.contains('서대문구'), '지점'] = 412\n",
    "remove_col_dust.loc[remove_col_dust['측정소명'].str.contains('서초구'), '지점'] = 401\n",
    "remove_col_dust.loc[remove_col_dust['측정소명'].str.contains('성동구'), '지점'] = 421\n",
    "remove_col_dust.loc[remove_col_dust['측정소명'].str.contains('성북구'), '지점'] = 414\n",
    "remove_col_dust.loc[remove_col_dust['측정소명'].str.contains('송파구'), '지점'] = 403\n",
    "remove_col_dust.loc[remove_col_dust['측정소명'].str.contains('양천구'), '지점'] = 405\n",
    "remove_col_dust.loc[remove_col_dust['측정소명'].str.contains('영등포구'), '지점'] = 510\n",
    "remove_col_dust.loc[remove_col_dust['측정소명'].str.contains('용산구'), '지점'] = 415\n",
    "remove_col_dust.loc[remove_col_dust['측정소명'].str.contains('은평구'), '지점'] = 416\n",
    "remove_col_dust.loc[remove_col_dust['측정소명'].str.contains('종로구'), '지점'] = 410\n",
    "remove_col_dust.loc[remove_col_dust['측정소명'].str.contains('중구'), '지점'] = 419\n",
    "remove_col_dust.loc[remove_col_dust['측정소명'].str.contains('중랑구'), '지점'] = 409"
   ]
  },
  {
   "cell_type": "code",
   "execution_count": 26,
   "metadata": {},
   "outputs": [
    {
     "data": {
      "text/plain": [
       "홍릉로     1405\n",
       "한강대로    1401\n",
       "강남대로    1398\n",
       "동작대로    1397\n",
       "공항대로    1390\n",
       "강변북로    1390\n",
       "정릉로     1386\n",
       "종로      1386\n",
       "화랑로     1385\n",
       "청계천로    1360\n",
       "도산대로    1350\n",
       "신촌로     1346\n",
       "영등포로    1344\n",
       "천호대로    1344\n",
       "홍지문      258\n",
       "행주        60\n",
       "북한산       60\n",
       "세곡        60\n",
       "남산        60\n",
       "시흥대로      36\n",
       "궁동        18\n",
       "Name: 측정소명, dtype: int64"
      ]
     },
     "execution_count": 26,
     "metadata": {},
     "output_type": "execute_result"
    }
   ],
   "source": [
    "remove_col_dust.loc[remove_col_dust['지점'] == 0, '측정소명'].value_counts()"
   ]
  },
  {
   "cell_type": "code",
   "execution_count": 27,
   "metadata": {},
   "outputs": [
    {
     "data": {
      "text/plain": [
       "19834"
      ]
     },
     "execution_count": 27,
     "metadata": {},
     "output_type": "execute_result"
    }
   ],
   "source": [
    "remove_col_dust.loc[remove_col_dust['지점'] == 0, '측정소명'].count()"
   ]
  },
  {
   "cell_type": "code",
   "execution_count": 28,
   "metadata": {},
   "outputs": [
    {
     "data": {
      "text/html": [
       "<div>\n",
       "<style scoped>\n",
       "    .dataframe tbody tr th:only-of-type {\n",
       "        vertical-align: middle;\n",
       "    }\n",
       "\n",
       "    .dataframe tbody tr th {\n",
       "        vertical-align: top;\n",
       "    }\n",
       "\n",
       "    .dataframe thead th {\n",
       "        text-align: right;\n",
       "    }\n",
       "</style>\n",
       "<table border=\"1\" class=\"dataframe\">\n",
       "  <thead>\n",
       "    <tr style=\"text-align: right;\">\n",
       "      <th></th>\n",
       "      <th>측정일시</th>\n",
       "      <th>측정소명</th>\n",
       "      <th>이산화질소농도(ppm)</th>\n",
       "      <th>오존농도(ppm)</th>\n",
       "      <th>이산화탄소농도(ppm)</th>\n",
       "      <th>아황산가스(ppm)</th>\n",
       "      <th>미세먼지(㎍/㎥)</th>\n",
       "      <th>지점</th>\n",
       "    </tr>\n",
       "  </thead>\n",
       "  <tbody>\n",
       "    <tr>\n",
       "      <th>0</th>\n",
       "      <td>20150101</td>\n",
       "      <td>강남구</td>\n",
       "      <td>0.013</td>\n",
       "      <td>0.023</td>\n",
       "      <td>0.2</td>\n",
       "      <td>0.006</td>\n",
       "      <td>66.0</td>\n",
       "      <td>400</td>\n",
       "    </tr>\n",
       "    <tr>\n",
       "      <th>1</th>\n",
       "      <td>20150101</td>\n",
       "      <td>강남대로</td>\n",
       "      <td>0.032</td>\n",
       "      <td>0.013</td>\n",
       "      <td>0.3</td>\n",
       "      <td>0.005</td>\n",
       "      <td>63.0</td>\n",
       "      <td>0</td>\n",
       "    </tr>\n",
       "    <tr>\n",
       "      <th>2</th>\n",
       "      <td>20150101</td>\n",
       "      <td>강동구</td>\n",
       "      <td>0.010</td>\n",
       "      <td>0.016</td>\n",
       "      <td>0.4</td>\n",
       "      <td>0.005</td>\n",
       "      <td>63.0</td>\n",
       "      <td>402</td>\n",
       "    </tr>\n",
       "    <tr>\n",
       "      <th>3</th>\n",
       "      <td>20150101</td>\n",
       "      <td>강변북로</td>\n",
       "      <td>0.024</td>\n",
       "      <td>0.014</td>\n",
       "      <td>0.3</td>\n",
       "      <td>0.004</td>\n",
       "      <td>64.0</td>\n",
       "      <td>0</td>\n",
       "    </tr>\n",
       "    <tr>\n",
       "      <th>4</th>\n",
       "      <td>20150101</td>\n",
       "      <td>강북구</td>\n",
       "      <td>0.011</td>\n",
       "      <td>0.018</td>\n",
       "      <td>0.2</td>\n",
       "      <td>0.005</td>\n",
       "      <td>63.0</td>\n",
       "      <td>424</td>\n",
       "    </tr>\n",
       "  </tbody>\n",
       "</table>\n",
       "</div>"
      ],
      "text/plain": [
       "       측정일시  측정소명  이산화질소농도(ppm)  오존농도(ppm)  이산화탄소농도(ppm)  아황산가스(ppm)  \\\n",
       "0  20150101   강남구         0.013      0.023           0.2       0.006   \n",
       "1  20150101  강남대로         0.032      0.013           0.3       0.005   \n",
       "2  20150101   강동구         0.010      0.016           0.4       0.005   \n",
       "3  20150101  강변북로         0.024      0.014           0.3       0.004   \n",
       "4  20150101   강북구         0.011      0.018           0.2       0.005   \n",
       "\n",
       "   미세먼지(㎍/㎥)   지점  \n",
       "0       66.0  400  \n",
       "1       63.0    0  \n",
       "2       63.0  402  \n",
       "3       64.0    0  \n",
       "4       63.0  424  "
      ]
     },
     "execution_count": 28,
     "metadata": {},
     "output_type": "execute_result"
    }
   ],
   "source": [
    "remove_col_dust.head()"
   ]
  },
  {
   "cell_type": "code",
   "execution_count": 29,
   "metadata": {},
   "outputs": [
    {
     "name": "stderr",
     "output_type": "stream",
     "text": [
      "C:\\Users\\baek\\Anaconda3\\lib\\site-packages\\ipykernel_launcher.py:1: SettingWithCopyWarning: \n",
      "A value is trying to be set on a copy of a slice from a DataFrame.\n",
      "Try using .loc[row_indexer,col_indexer] = value instead\n",
      "\n",
      "See the caveats in the documentation: http://pandas.pydata.org/pandas-docs/stable/indexing.html#indexing-view-versus-copy\n",
      "  \"\"\"Entry point for launching an IPython kernel.\n"
     ]
    }
   ],
   "source": [
    "remove_col_dust['측정일시'] = remove_col_dust['측정일시'].astype(str)"
   ]
  },
  {
   "cell_type": "code",
   "execution_count": 30,
   "metadata": {},
   "outputs": [
    {
     "name": "stderr",
     "output_type": "stream",
     "text": [
      "C:\\Users\\baek\\Anaconda3\\lib\\site-packages\\ipykernel_launcher.py:1: SettingWithCopyWarning: \n",
      "A value is trying to be set on a copy of a slice from a DataFrame.\n",
      "Try using .loc[row_indexer,col_indexer] = value instead\n",
      "\n",
      "See the caveats in the documentation: http://pandas.pydata.org/pandas-docs/stable/indexing.html#indexing-view-versus-copy\n",
      "  \"\"\"Entry point for launching an IPython kernel.\n",
      "C:\\Users\\baek\\Anaconda3\\lib\\site-packages\\ipykernel_launcher.py:2: SettingWithCopyWarning: \n",
      "A value is trying to be set on a copy of a slice from a DataFrame.\n",
      "Try using .loc[row_indexer,col_indexer] = value instead\n",
      "\n",
      "See the caveats in the documentation: http://pandas.pydata.org/pandas-docs/stable/indexing.html#indexing-view-versus-copy\n",
      "  \n",
      "C:\\Users\\baek\\Anaconda3\\lib\\site-packages\\ipykernel_launcher.py:3: SettingWithCopyWarning: \n",
      "A value is trying to be set on a copy of a slice from a DataFrame.\n",
      "Try using .loc[row_indexer,col_indexer] = value instead\n",
      "\n",
      "See the caveats in the documentation: http://pandas.pydata.org/pandas-docs/stable/indexing.html#indexing-view-versus-copy\n",
      "  This is separate from the ipykernel package so we can avoid doing imports until\n"
     ]
    }
   ],
   "source": [
    "remove_col_dust['year'] = remove_col_dust['측정일시'].str[0:4]\n",
    "remove_col_dust['month'] = remove_col_dust['측정일시'].str[4:6]\n",
    "remove_col_dust['day'] = remove_col_dust['측정일시'].str[6:8]"
   ]
  },
  {
   "cell_type": "code",
   "execution_count": 31,
   "metadata": {},
   "outputs": [
    {
     "data": {
      "text/html": [
       "<div>\n",
       "<style scoped>\n",
       "    .dataframe tbody tr th:only-of-type {\n",
       "        vertical-align: middle;\n",
       "    }\n",
       "\n",
       "    .dataframe tbody tr th {\n",
       "        vertical-align: top;\n",
       "    }\n",
       "\n",
       "    .dataframe thead th {\n",
       "        text-align: right;\n",
       "    }\n",
       "</style>\n",
       "<table border=\"1\" class=\"dataframe\">\n",
       "  <thead>\n",
       "    <tr style=\"text-align: right;\">\n",
       "      <th></th>\n",
       "      <th>측정일시</th>\n",
       "      <th>측정소명</th>\n",
       "      <th>이산화질소농도(ppm)</th>\n",
       "      <th>오존농도(ppm)</th>\n",
       "      <th>이산화탄소농도(ppm)</th>\n",
       "      <th>아황산가스(ppm)</th>\n",
       "      <th>미세먼지(㎍/㎥)</th>\n",
       "      <th>지점</th>\n",
       "      <th>year</th>\n",
       "      <th>month</th>\n",
       "      <th>day</th>\n",
       "    </tr>\n",
       "  </thead>\n",
       "  <tbody>\n",
       "    <tr>\n",
       "      <th>0</th>\n",
       "      <td>20150101</td>\n",
       "      <td>강남구</td>\n",
       "      <td>0.013</td>\n",
       "      <td>0.023</td>\n",
       "      <td>0.2</td>\n",
       "      <td>0.006</td>\n",
       "      <td>66.0</td>\n",
       "      <td>400</td>\n",
       "      <td>2015</td>\n",
       "      <td>01</td>\n",
       "      <td>01</td>\n",
       "    </tr>\n",
       "    <tr>\n",
       "      <th>1</th>\n",
       "      <td>20150101</td>\n",
       "      <td>강남대로</td>\n",
       "      <td>0.032</td>\n",
       "      <td>0.013</td>\n",
       "      <td>0.3</td>\n",
       "      <td>0.005</td>\n",
       "      <td>63.0</td>\n",
       "      <td>0</td>\n",
       "      <td>2015</td>\n",
       "      <td>01</td>\n",
       "      <td>01</td>\n",
       "    </tr>\n",
       "    <tr>\n",
       "      <th>2</th>\n",
       "      <td>20150101</td>\n",
       "      <td>강동구</td>\n",
       "      <td>0.010</td>\n",
       "      <td>0.016</td>\n",
       "      <td>0.4</td>\n",
       "      <td>0.005</td>\n",
       "      <td>63.0</td>\n",
       "      <td>402</td>\n",
       "      <td>2015</td>\n",
       "      <td>01</td>\n",
       "      <td>01</td>\n",
       "    </tr>\n",
       "    <tr>\n",
       "      <th>3</th>\n",
       "      <td>20150101</td>\n",
       "      <td>강변북로</td>\n",
       "      <td>0.024</td>\n",
       "      <td>0.014</td>\n",
       "      <td>0.3</td>\n",
       "      <td>0.004</td>\n",
       "      <td>64.0</td>\n",
       "      <td>0</td>\n",
       "      <td>2015</td>\n",
       "      <td>01</td>\n",
       "      <td>01</td>\n",
       "    </tr>\n",
       "    <tr>\n",
       "      <th>4</th>\n",
       "      <td>20150101</td>\n",
       "      <td>강북구</td>\n",
       "      <td>0.011</td>\n",
       "      <td>0.018</td>\n",
       "      <td>0.2</td>\n",
       "      <td>0.005</td>\n",
       "      <td>63.0</td>\n",
       "      <td>424</td>\n",
       "      <td>2015</td>\n",
       "      <td>01</td>\n",
       "      <td>01</td>\n",
       "    </tr>\n",
       "  </tbody>\n",
       "</table>\n",
       "</div>"
      ],
      "text/plain": [
       "       측정일시  측정소명  이산화질소농도(ppm)  오존농도(ppm)  이산화탄소농도(ppm)  아황산가스(ppm)  \\\n",
       "0  20150101   강남구         0.013      0.023           0.2       0.006   \n",
       "1  20150101  강남대로         0.032      0.013           0.3       0.005   \n",
       "2  20150101   강동구         0.010      0.016           0.4       0.005   \n",
       "3  20150101  강변북로         0.024      0.014           0.3       0.004   \n",
       "4  20150101   강북구         0.011      0.018           0.2       0.005   \n",
       "\n",
       "   미세먼지(㎍/㎥)   지점  year month day  \n",
       "0       66.0  400  2015    01  01  \n",
       "1       63.0    0  2015    01  01  \n",
       "2       63.0  402  2015    01  01  \n",
       "3       64.0    0  2015    01  01  \n",
       "4       63.0  424  2015    01  01  "
      ]
     },
     "execution_count": 31,
     "metadata": {},
     "output_type": "execute_result"
    }
   ],
   "source": [
    "remove_col_dust.head()"
   ]
  },
  {
   "cell_type": "code",
   "execution_count": 32,
   "metadata": {},
   "outputs": [
    {
     "data": {
      "text/html": [
       "<div>\n",
       "<style scoped>\n",
       "    .dataframe tbody tr th:only-of-type {\n",
       "        vertical-align: middle;\n",
       "    }\n",
       "\n",
       "    .dataframe tbody tr th {\n",
       "        vertical-align: top;\n",
       "    }\n",
       "\n",
       "    .dataframe thead th {\n",
       "        text-align: right;\n",
       "    }\n",
       "</style>\n",
       "<table border=\"1\" class=\"dataframe\">\n",
       "  <thead>\n",
       "    <tr style=\"text-align: right;\">\n",
       "      <th></th>\n",
       "      <th>지점</th>\n",
       "      <th>일시</th>\n",
       "      <th>평균기온(°C)</th>\n",
       "      <th>일강수량(mm)</th>\n",
       "      <th>평균 풍속(m/s)</th>\n",
       "      <th>year</th>\n",
       "      <th>month</th>\n",
       "      <th>day</th>\n",
       "    </tr>\n",
       "  </thead>\n",
       "  <tbody>\n",
       "    <tr>\n",
       "      <th>0</th>\n",
       "      <td>400</td>\n",
       "      <td>2015-01-01</td>\n",
       "      <td>-6.8</td>\n",
       "      <td>0</td>\n",
       "      <td>2.7</td>\n",
       "      <td>2015</td>\n",
       "      <td>01</td>\n",
       "      <td>01</td>\n",
       "    </tr>\n",
       "    <tr>\n",
       "      <th>1</th>\n",
       "      <td>400</td>\n",
       "      <td>2015-01-02</td>\n",
       "      <td>-4.9</td>\n",
       "      <td>0</td>\n",
       "      <td>2.1</td>\n",
       "      <td>2015</td>\n",
       "      <td>01</td>\n",
       "      <td>02</td>\n",
       "    </tr>\n",
       "    <tr>\n",
       "      <th>2</th>\n",
       "      <td>400</td>\n",
       "      <td>2015-01-03</td>\n",
       "      <td>-2.1</td>\n",
       "      <td>0</td>\n",
       "      <td>1.3</td>\n",
       "      <td>2015</td>\n",
       "      <td>01</td>\n",
       "      <td>03</td>\n",
       "    </tr>\n",
       "    <tr>\n",
       "      <th>3</th>\n",
       "      <td>400</td>\n",
       "      <td>2015-01-04</td>\n",
       "      <td>2.8</td>\n",
       "      <td>0</td>\n",
       "      <td>1</td>\n",
       "      <td>2015</td>\n",
       "      <td>01</td>\n",
       "      <td>04</td>\n",
       "    </tr>\n",
       "    <tr>\n",
       "      <th>4</th>\n",
       "      <td>400</td>\n",
       "      <td>2015-01-05</td>\n",
       "      <td>3.8</td>\n",
       "      <td>.5</td>\n",
       "      <td>1.2</td>\n",
       "      <td>2015</td>\n",
       "      <td>01</td>\n",
       "      <td>05</td>\n",
       "    </tr>\n",
       "  </tbody>\n",
       "</table>\n",
       "</div>"
      ],
      "text/plain": [
       "    지점          일시 평균기온(°C) 일강수량(mm) 평균 풍속(m/s)  year month day\n",
       "0  400  2015-01-01     -6.8        0        2.7  2015    01  01\n",
       "1  400  2015-01-02     -4.9        0        2.1  2015    01  02\n",
       "2  400  2015-01-03     -2.1        0        1.3  2015    01  03\n",
       "3  400  2015-01-04      2.8        0          1  2015    01  04\n",
       "4  400  2015-01-05      3.8       .5        1.2  2015    01  05"
      ]
     },
     "execution_count": 32,
     "metadata": {},
     "output_type": "execute_result"
    }
   ],
   "source": [
    "weather.head()"
   ]
  },
  {
   "cell_type": "code",
   "execution_count": 33,
   "metadata": {},
   "outputs": [
    {
     "name": "stderr",
     "output_type": "stream",
     "text": [
      "C:\\Users\\baek\\Anaconda3\\lib\\site-packages\\ipykernel_launcher.py:1: SettingWithCopyWarning: \n",
      "A value is trying to be set on a copy of a slice from a DataFrame.\n",
      "Try using .loc[row_indexer,col_indexer] = value instead\n",
      "\n",
      "See the caveats in the documentation: http://pandas.pydata.org/pandas-docs/stable/indexing.html#indexing-view-versus-copy\n",
      "  \"\"\"Entry point for launching an IPython kernel.\n"
     ]
    }
   ],
   "source": [
    "remove_col_dust['지점']  = remove_col_dust['지점'].astype(int)\n",
    "weather['지점'] = weather['지점'].astype(int)"
   ]
  },
  {
   "cell_type": "code",
   "execution_count": 34,
   "metadata": {},
   "outputs": [],
   "source": [
    "merged_dust = remove_col_dust.merge(weather, on = ['지점', 'year', 'month', 'day'], how = 'left')"
   ]
  },
  {
   "cell_type": "code",
   "execution_count": 35,
   "metadata": {},
   "outputs": [
    {
     "data": {
      "text/html": [
       "<div>\n",
       "<style scoped>\n",
       "    .dataframe tbody tr th:only-of-type {\n",
       "        vertical-align: middle;\n",
       "    }\n",
       "\n",
       "    .dataframe tbody tr th {\n",
       "        vertical-align: top;\n",
       "    }\n",
       "\n",
       "    .dataframe thead th {\n",
       "        text-align: right;\n",
       "    }\n",
       "</style>\n",
       "<table border=\"1\" class=\"dataframe\">\n",
       "  <thead>\n",
       "    <tr style=\"text-align: right;\">\n",
       "      <th></th>\n",
       "      <th>측정일시</th>\n",
       "      <th>측정소명</th>\n",
       "      <th>이산화질소농도(ppm)</th>\n",
       "      <th>오존농도(ppm)</th>\n",
       "      <th>이산화탄소농도(ppm)</th>\n",
       "      <th>아황산가스(ppm)</th>\n",
       "      <th>미세먼지(㎍/㎥)</th>\n",
       "      <th>지점</th>\n",
       "      <th>year</th>\n",
       "      <th>month</th>\n",
       "      <th>day</th>\n",
       "      <th>일시</th>\n",
       "      <th>평균기온(°C)</th>\n",
       "      <th>일강수량(mm)</th>\n",
       "      <th>평균 풍속(m/s)</th>\n",
       "    </tr>\n",
       "  </thead>\n",
       "  <tbody>\n",
       "    <tr>\n",
       "      <th>0</th>\n",
       "      <td>20150101</td>\n",
       "      <td>강남구</td>\n",
       "      <td>0.013</td>\n",
       "      <td>0.023</td>\n",
       "      <td>0.2</td>\n",
       "      <td>0.006</td>\n",
       "      <td>66.0</td>\n",
       "      <td>400</td>\n",
       "      <td>2015</td>\n",
       "      <td>01</td>\n",
       "      <td>01</td>\n",
       "      <td>2015-01-01</td>\n",
       "      <td>-6.8</td>\n",
       "      <td>0</td>\n",
       "      <td>2.7</td>\n",
       "    </tr>\n",
       "    <tr>\n",
       "      <th>1</th>\n",
       "      <td>20150101</td>\n",
       "      <td>강남대로</td>\n",
       "      <td>0.032</td>\n",
       "      <td>0.013</td>\n",
       "      <td>0.3</td>\n",
       "      <td>0.005</td>\n",
       "      <td>63.0</td>\n",
       "      <td>0</td>\n",
       "      <td>2015</td>\n",
       "      <td>01</td>\n",
       "      <td>01</td>\n",
       "      <td>NaN</td>\n",
       "      <td>NaN</td>\n",
       "      <td>NaN</td>\n",
       "      <td>NaN</td>\n",
       "    </tr>\n",
       "    <tr>\n",
       "      <th>2</th>\n",
       "      <td>20150101</td>\n",
       "      <td>강동구</td>\n",
       "      <td>0.010</td>\n",
       "      <td>0.016</td>\n",
       "      <td>0.4</td>\n",
       "      <td>0.005</td>\n",
       "      <td>63.0</td>\n",
       "      <td>402</td>\n",
       "      <td>2015</td>\n",
       "      <td>01</td>\n",
       "      <td>01</td>\n",
       "      <td>2015-01-01</td>\n",
       "      <td>-6.7</td>\n",
       "      <td>0</td>\n",
       "      <td>1.1</td>\n",
       "    </tr>\n",
       "    <tr>\n",
       "      <th>3</th>\n",
       "      <td>20150101</td>\n",
       "      <td>강변북로</td>\n",
       "      <td>0.024</td>\n",
       "      <td>0.014</td>\n",
       "      <td>0.3</td>\n",
       "      <td>0.004</td>\n",
       "      <td>64.0</td>\n",
       "      <td>0</td>\n",
       "      <td>2015</td>\n",
       "      <td>01</td>\n",
       "      <td>01</td>\n",
       "      <td>NaN</td>\n",
       "      <td>NaN</td>\n",
       "      <td>NaN</td>\n",
       "      <td>NaN</td>\n",
       "    </tr>\n",
       "    <tr>\n",
       "      <th>4</th>\n",
       "      <td>20150101</td>\n",
       "      <td>강북구</td>\n",
       "      <td>0.011</td>\n",
       "      <td>0.018</td>\n",
       "      <td>0.2</td>\n",
       "      <td>0.005</td>\n",
       "      <td>63.0</td>\n",
       "      <td>424</td>\n",
       "      <td>2015</td>\n",
       "      <td>01</td>\n",
       "      <td>01</td>\n",
       "      <td>2015-01-01</td>\n",
       "      <td>-7.1</td>\n",
       "      <td>0</td>\n",
       "      <td>3.3</td>\n",
       "    </tr>\n",
       "  </tbody>\n",
       "</table>\n",
       "</div>"
      ],
      "text/plain": [
       "       측정일시  측정소명  이산화질소농도(ppm)  오존농도(ppm)  이산화탄소농도(ppm)  아황산가스(ppm)  \\\n",
       "0  20150101   강남구         0.013      0.023           0.2       0.006   \n",
       "1  20150101  강남대로         0.032      0.013           0.3       0.005   \n",
       "2  20150101   강동구         0.010      0.016           0.4       0.005   \n",
       "3  20150101  강변북로         0.024      0.014           0.3       0.004   \n",
       "4  20150101   강북구         0.011      0.018           0.2       0.005   \n",
       "\n",
       "   미세먼지(㎍/㎥)   지점  year month day          일시 평균기온(°C) 일강수량(mm) 평균 풍속(m/s)  \n",
       "0       66.0  400  2015    01  01  2015-01-01     -6.8        0        2.7  \n",
       "1       63.0    0  2015    01  01         NaN      NaN      NaN        NaN  \n",
       "2       63.0  402  2015    01  01  2015-01-01     -6.7        0        1.1  \n",
       "3       64.0    0  2015    01  01         NaN      NaN      NaN        NaN  \n",
       "4       63.0  424  2015    01  01  2015-01-01     -7.1        0        3.3  "
      ]
     },
     "execution_count": 35,
     "metadata": {},
     "output_type": "execute_result"
    }
   ],
   "source": [
    "merged_dust.head()"
   ]
  },
  {
   "cell_type": "code",
   "execution_count": 36,
   "metadata": {},
   "outputs": [
    {
     "data": {
      "text/plain": [
       "측정일시            54410\n",
       "측정소명            54410\n",
       "이산화질소농도(ppm)    54410\n",
       "오존농도(ppm)       54410\n",
       "이산화탄소농도(ppm)    54410\n",
       "아황산가스(ppm)      54410\n",
       "미세먼지(㎍/㎥)       54410\n",
       "지점              54410\n",
       "year            54410\n",
       "month           54410\n",
       "day             54410\n",
       "일시              34567\n",
       "평균기온(°C)        34427\n",
       "일강수량(mm)        34563\n",
       "평균 풍속(m/s)      34422\n",
       "dtype: int64"
      ]
     },
     "execution_count": 36,
     "metadata": {},
     "output_type": "execute_result"
    }
   ],
   "source": [
    "merged_dust.count()"
   ]
  },
  {
   "cell_type": "code",
   "execution_count": 37,
   "metadata": {},
   "outputs": [
    {
     "data": {
      "text/plain": [
       "측정일시                0\n",
       "측정소명                0\n",
       "이산화질소농도(ppm)        0\n",
       "오존농도(ppm)           0\n",
       "이산화탄소농도(ppm)        0\n",
       "아황산가스(ppm)          0\n",
       "미세먼지(㎍/㎥)           0\n",
       "지점                  0\n",
       "year                0\n",
       "month               0\n",
       "day                 0\n",
       "일시              19843\n",
       "평균기온(°C)        19983\n",
       "일강수량(mm)        19847\n",
       "평균 풍속(m/s)      19988\n",
       "dtype: int64"
      ]
     },
     "execution_count": 37,
     "metadata": {},
     "output_type": "execute_result"
    }
   ],
   "source": [
    "merged_dust.isnull().sum()"
   ]
  },
  {
   "cell_type": "code",
   "execution_count": 38,
   "metadata": {},
   "outputs": [],
   "source": [
    "mer_drop_dust = merged_dust.dropna()"
   ]
  },
  {
   "cell_type": "code",
   "execution_count": 39,
   "metadata": {},
   "outputs": [
    {
     "data": {
      "text/plain": [
       "동대문구    1400\n",
       "중랑구     1396\n",
       "강남구     1391\n",
       "도봉구     1389\n",
       "성동구     1386\n",
       "광진구     1385\n",
       "관악구     1384\n",
       "강동구     1383\n",
       "서초구     1382\n",
       "용산구     1381\n",
       "마포구     1381\n",
       "노원구     1378\n",
       "송파구     1378\n",
       "영등포구    1376\n",
       "강북구     1376\n",
       "성북구     1375\n",
       "구로구     1375\n",
       "중구      1369\n",
       "강서구     1368\n",
       "종로구     1368\n",
       "금천구     1360\n",
       "동작구     1358\n",
       "서대문구    1352\n",
       "양천구     1349\n",
       "은평구     1348\n",
       "Name: 측정소명, dtype: int64"
      ]
     },
     "execution_count": 39,
     "metadata": {},
     "output_type": "execute_result"
    }
   ],
   "source": [
    "mer_drop_dust['측정소명'].value_counts()"
   ]
  },
  {
   "cell_type": "code",
   "execution_count": 40,
   "metadata": {},
   "outputs": [
    {
     "data": {
      "text/html": [
       "<div>\n",
       "<style scoped>\n",
       "    .dataframe tbody tr th:only-of-type {\n",
       "        vertical-align: middle;\n",
       "    }\n",
       "\n",
       "    .dataframe tbody tr th {\n",
       "        vertical-align: top;\n",
       "    }\n",
       "\n",
       "    .dataframe thead th {\n",
       "        text-align: right;\n",
       "    }\n",
       "</style>\n",
       "<table border=\"1\" class=\"dataframe\">\n",
       "  <thead>\n",
       "    <tr style=\"text-align: right;\">\n",
       "      <th></th>\n",
       "      <th>측정일시</th>\n",
       "      <th>측정소명</th>\n",
       "      <th>이산화질소농도(ppm)</th>\n",
       "      <th>오존농도(ppm)</th>\n",
       "      <th>이산화탄소농도(ppm)</th>\n",
       "      <th>아황산가스(ppm)</th>\n",
       "      <th>미세먼지(㎍/㎥)</th>\n",
       "      <th>지점</th>\n",
       "      <th>year</th>\n",
       "      <th>month</th>\n",
       "      <th>day</th>\n",
       "      <th>일시</th>\n",
       "      <th>평균기온(°C)</th>\n",
       "      <th>일강수량(mm)</th>\n",
       "      <th>평균 풍속(m/s)</th>\n",
       "    </tr>\n",
       "  </thead>\n",
       "  <tbody>\n",
       "    <tr>\n",
       "      <th>0</th>\n",
       "      <td>20150101</td>\n",
       "      <td>강남구</td>\n",
       "      <td>0.013</td>\n",
       "      <td>0.023</td>\n",
       "      <td>0.2</td>\n",
       "      <td>0.006</td>\n",
       "      <td>66.0</td>\n",
       "      <td>400</td>\n",
       "      <td>2015</td>\n",
       "      <td>01</td>\n",
       "      <td>01</td>\n",
       "      <td>2015-01-01</td>\n",
       "      <td>-6.8</td>\n",
       "      <td>0</td>\n",
       "      <td>2.7</td>\n",
       "    </tr>\n",
       "    <tr>\n",
       "      <th>2</th>\n",
       "      <td>20150101</td>\n",
       "      <td>강동구</td>\n",
       "      <td>0.010</td>\n",
       "      <td>0.016</td>\n",
       "      <td>0.4</td>\n",
       "      <td>0.005</td>\n",
       "      <td>63.0</td>\n",
       "      <td>402</td>\n",
       "      <td>2015</td>\n",
       "      <td>01</td>\n",
       "      <td>01</td>\n",
       "      <td>2015-01-01</td>\n",
       "      <td>-6.7</td>\n",
       "      <td>0</td>\n",
       "      <td>1.1</td>\n",
       "    </tr>\n",
       "    <tr>\n",
       "      <th>4</th>\n",
       "      <td>20150101</td>\n",
       "      <td>강북구</td>\n",
       "      <td>0.011</td>\n",
       "      <td>0.018</td>\n",
       "      <td>0.2</td>\n",
       "      <td>0.005</td>\n",
       "      <td>63.0</td>\n",
       "      <td>424</td>\n",
       "      <td>2015</td>\n",
       "      <td>01</td>\n",
       "      <td>01</td>\n",
       "      <td>2015-01-01</td>\n",
       "      <td>-7.1</td>\n",
       "      <td>0</td>\n",
       "      <td>3.3</td>\n",
       "    </tr>\n",
       "    <tr>\n",
       "      <th>5</th>\n",
       "      <td>20150101</td>\n",
       "      <td>강서구</td>\n",
       "      <td>0.012</td>\n",
       "      <td>0.023</td>\n",
       "      <td>0.2</td>\n",
       "      <td>0.005</td>\n",
       "      <td>60.0</td>\n",
       "      <td>404</td>\n",
       "      <td>2015</td>\n",
       "      <td>01</td>\n",
       "      <td>01</td>\n",
       "      <td>2015-01-01</td>\n",
       "      <td>-7.3</td>\n",
       "      <td>0</td>\n",
       "      <td>1.8</td>\n",
       "    </tr>\n",
       "    <tr>\n",
       "      <th>7</th>\n",
       "      <td>20150101</td>\n",
       "      <td>관악구</td>\n",
       "      <td>0.013</td>\n",
       "      <td>0.014</td>\n",
       "      <td>0.4</td>\n",
       "      <td>0.005</td>\n",
       "      <td>60.0</td>\n",
       "      <td>509</td>\n",
       "      <td>2015</td>\n",
       "      <td>01</td>\n",
       "      <td>01</td>\n",
       "      <td>2015-01-01</td>\n",
       "      <td>-7.7</td>\n",
       "      <td>0</td>\n",
       "      <td>2.3</td>\n",
       "    </tr>\n",
       "  </tbody>\n",
       "</table>\n",
       "</div>"
      ],
      "text/plain": [
       "       측정일시 측정소명  이산화질소농도(ppm)  오존농도(ppm)  이산화탄소농도(ppm)  아황산가스(ppm)  \\\n",
       "0  20150101  강남구         0.013      0.023           0.2       0.006   \n",
       "2  20150101  강동구         0.010      0.016           0.4       0.005   \n",
       "4  20150101  강북구         0.011      0.018           0.2       0.005   \n",
       "5  20150101  강서구         0.012      0.023           0.2       0.005   \n",
       "7  20150101  관악구         0.013      0.014           0.4       0.005   \n",
       "\n",
       "   미세먼지(㎍/㎥)   지점  year month day          일시 평균기온(°C) 일강수량(mm) 평균 풍속(m/s)  \n",
       "0       66.0  400  2015    01  01  2015-01-01     -6.8        0        2.7  \n",
       "2       63.0  402  2015    01  01  2015-01-01     -6.7        0        1.1  \n",
       "4       63.0  424  2015    01  01  2015-01-01     -7.1        0        3.3  \n",
       "5       60.0  404  2015    01  01  2015-01-01     -7.3        0        1.8  \n",
       "7       60.0  509  2015    01  01  2015-01-01     -7.7        0        2.3  "
      ]
     },
     "execution_count": 40,
     "metadata": {},
     "output_type": "execute_result"
    }
   ],
   "source": [
    "mer_drop_dust.head()"
   ]
  },
  {
   "cell_type": "code",
   "execution_count": 41,
   "metadata": {},
   "outputs": [
    {
     "data": {
      "text/plain": [
       "측정일시            34388\n",
       "측정소명            34388\n",
       "이산화질소농도(ppm)    34388\n",
       "오존농도(ppm)       34388\n",
       "이산화탄소농도(ppm)    34388\n",
       "아황산가스(ppm)      34388\n",
       "미세먼지(㎍/㎥)       34388\n",
       "지점              34388\n",
       "year            34388\n",
       "month           34388\n",
       "day             34388\n",
       "일시              34388\n",
       "평균기온(°C)        34388\n",
       "일강수량(mm)        34388\n",
       "평균 풍속(m/s)      34388\n",
       "dtype: int64"
      ]
     },
     "execution_count": 41,
     "metadata": {},
     "output_type": "execute_result"
    }
   ],
   "source": [
    "mer_drop_dust.count()"
   ]
  },
  {
   "cell_type": "code",
   "execution_count": null,
   "metadata": {},
   "outputs": [],
   "source": []
  }
 ],
 "metadata": {
  "kernelspec": {
   "display_name": "Python3",
   "language": "python",
   "name": "base"
  },
  "language_info": {
   "codemirror_mode": {
    "name": "ipython",
    "version": 3
   },
   "file_extension": ".py",
   "mimetype": "text/x-python",
   "name": "python",
   "nbconvert_exporter": "python",
   "pygments_lexer": "ipython3",
   "version": "3.7.3"
  }
 },
 "nbformat": 4,
 "nbformat_minor": 2
}
